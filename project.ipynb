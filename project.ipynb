{
 "cells": [
  {
   "cell_type": "code",
   "execution_count": 1,
   "id": "successful-communications",
   "metadata": {
    "_cell_guid": "b1076dfc-b9ad-4769-8c92-a6c4dae69d19",
    "_uuid": "8f2839f25d086af736a60e9eeb907d3b93b6e0e5",
    "execution": {
     "iopub.execute_input": "2021-06-10T05:38:27.091883Z",
     "iopub.status.busy": "2021-06-10T05:38:27.090583Z",
     "iopub.status.idle": "2021-06-10T05:38:27.094370Z",
     "shell.execute_reply": "2021-06-10T05:38:27.093761Z",
     "shell.execute_reply.started": "2021-06-10T05:37:23.315278Z"
    },
    "papermill": {
     "duration": 0.020837,
     "end_time": "2021-06-10T05:38:27.094499",
     "exception": false,
     "start_time": "2021-06-10T05:38:27.073662",
     "status": "completed"
    },
    "tags": []
   },
   "outputs": [],
   "source": [
    "\n",
    "\n",
    "# This Python 3 environment comes with many helpful analytics libraries installed\n",
    "# It is defined by the kaggle/python docker image: https://github.com/kaggle/docker-python\n",
    "# For example, here's several helpful packages to load in \n",
    "\n",
    "#import numpy as np # linear algebra\n",
    "#import pandas as pd # data processing, CSV file I/O (e.g. pd.read_csv)\n",
    "\n",
    "# Input data files are available in the \"../input/\" directory.\n",
    "# For example, running this (by clicking run or pressing Shift+Enter) will list all files under the input directory\n",
    "\n",
    "#import os\n",
    "#for dirname, _, filenames in os.walk('/kaggle/input'):\n",
    "#    for filename in filenames:\n",
    "#        print(os.path.join(dirname, filename))\n",
    "\n",
    "# Any results you write to the current directory are saved as output."
   ]
  },
  {
   "cell_type": "code",
   "execution_count": 2,
   "id": "helpful-hearts",
   "metadata": {
    "_cell_guid": "",
    "_uuid": "",
    "execution": {
     "iopub.execute_input": "2021-06-10T05:38:27.127092Z",
     "iopub.status.busy": "2021-06-10T05:38:27.126557Z",
     "iopub.status.idle": "2021-06-10T05:38:27.308239Z",
     "shell.execute_reply": "2021-06-10T05:38:27.307267Z",
     "shell.execute_reply.started": "2021-06-10T05:37:23.324961Z"
    },
    "papermill": {
     "duration": 0.202275,
     "end_time": "2021-06-10T05:38:27.308393",
     "exception": false,
     "start_time": "2021-06-10T05:38:27.106118",
     "status": "completed"
    },
    "tags": []
   },
   "outputs": [],
   "source": [
    "import pandas as pd\n",
    "driver_imgs_list = pd.read_csv(\"../input/state-farm-distracted-driver-detection/driver_imgs_list.csv\")\n",
    "sample_submission = pd.read_csv(\"../input/state-farm-distracted-driver-detection/sample_submission.csv\")"
   ]
  },
  {
   "cell_type": "code",
   "execution_count": 3,
   "id": "intellectual-personal",
   "metadata": {
    "execution": {
     "iopub.execute_input": "2021-06-10T05:38:27.339665Z",
     "iopub.status.busy": "2021-06-10T05:38:27.339045Z",
     "iopub.status.idle": "2021-06-10T05:38:35.036171Z",
     "shell.execute_reply": "2021-06-10T05:38:35.035633Z",
     "shell.execute_reply.started": "2021-06-10T05:37:23.508723Z"
    },
    "papermill": {
     "duration": 7.714687,
     "end_time": "2021-06-10T05:38:35.036315",
     "exception": false,
     "start_time": "2021-06-10T05:38:27.321628",
     "status": "completed"
    },
    "tags": []
   },
   "outputs": [],
   "source": [
    "import warnings\n",
    "warnings.filterwarnings(\"ignore\")\n",
    "\n",
    "import os\n",
    "import random\n",
    "import numpy as np\n",
    "import matplotlib.pyplot as plt\n",
    "from dask.array.image import imread\n",
    "import cv2\n",
    "import random\n",
    "import gc\n",
    "\n",
    "import keras\n",
    "from keras.models import Model\n",
    "from keras.layers import Input, Dropout, Dense,GlobalAveragePooling2D\n",
    "from keras.utils import to_categorical\n",
    "from keras.layers.normalization import BatchNormalization\n",
    "from keras import optimizers\n",
    "from keras.callbacks import ModelCheckpoint,EarlyStopping\n",
    "from keras.preprocessing.image import img_to_array,ImageDataGenerator,array_to_img\n",
    "from keras.applications.xception import preprocess_input, decode_predictions\n",
    "from keras.applications.xception import Xception"
   ]
  },
  {
   "cell_type": "code",
   "execution_count": 4,
   "id": "architectural-shakespeare",
   "metadata": {
    "execution": {
     "iopub.execute_input": "2021-06-10T05:38:35.063169Z",
     "iopub.status.busy": "2021-06-10T05:38:35.062435Z",
     "iopub.status.idle": "2021-06-10T05:38:35.064642Z",
     "shell.execute_reply": "2021-06-10T05:38:35.065087Z",
     "shell.execute_reply.started": "2021-06-10T05:37:30.938310Z"
    },
    "papermill": {
     "duration": 0.017159,
     "end_time": "2021-06-10T05:38:35.065222",
     "exception": false,
     "start_time": "2021-06-10T05:38:35.048063",
     "status": "completed"
    },
    "tags": []
   },
   "outputs": [],
   "source": [
    "#Submission code\n",
    "#from PIL import Image\n",
    "#from keras.models import load_model\n",
    "#model=load_model('../input/xceptionweight5/xception_weight_v5.hdf5')\n",
    "#def get_data(image_path):\n",
    "#    img = Image.open(image_path)\n",
    "#    img = img.resize((299, 299), Image.ANTIALIAS) # resizes image in-place\n",
    "#    return np.asarray(img)/255\n",
    "#\n",
    "#for i, file in enumerate(sample_submission['img']):\n",
    "#    image = get_data('../input/state-farm-distracted-driver-detection/imgs/test/' + file)\n",
    "#    image = np.reshape(image, (1, image.shape[0], image.shape[1], image.shape[2]))\n",
    "#    result = model.predict(image)\n",
    "#    sample_submission.iloc[i, 1:] = result[0]\n",
    "#    print(file+\"done\"+str(i))\n",
    "#    \n",
    "#sample_submission.to_csv('results.csv', index = False)"
   ]
  },
  {
   "cell_type": "code",
   "execution_count": 5,
   "id": "silver-tampa",
   "metadata": {
    "execution": {
     "iopub.execute_input": "2021-06-10T05:38:35.096028Z",
     "iopub.status.busy": "2021-06-10T05:38:35.095201Z",
     "iopub.status.idle": "2021-06-10T05:39:42.881972Z",
     "shell.execute_reply": "2021-06-10T05:39:42.882665Z",
     "shell.execute_reply.started": "2021-06-10T05:37:30.946934Z"
    },
    "papermill": {
     "duration": 67.806429,
     "end_time": "2021-06-10T05:39:42.882890",
     "exception": false,
     "start_time": "2021-06-10T05:38:35.076461",
     "status": "completed"
    },
    "tags": []
   },
   "outputs": [
    {
     "name": "stdout",
     "output_type": "stream",
     "text": [
      "Finished c 0\n",
      "Finished c 1\n",
      "Finished c 2\n",
      "Finished c 3\n",
      "Finished c 4\n",
      "Finished c 5\n",
      "Finished c 6\n",
      "Finished c 7\n",
      "Finished c 8\n",
      "Finished c 9\n"
     ]
    }
   ],
   "source": [
    "driver_details = pd.read_csv('../input/state-farm-distracted-driver-detection/driver_imgs_list.csv',na_values='na')\n",
    "train_image = []\n",
    "\n",
    "for i in range(10):\n",
    "    imgs = os.listdir(\"../input/state-farm-distracted-driver-detection/imgs/train/c\"+str(i))\n",
    "    for j in range(500):\n",
    "        if j>=len(imgs):\n",
    "            break\n",
    "        img_name = \"../input/state-farm-distracted-driver-detection/imgs/train/c\"+str(i)+\"/\"+imgs[j]\n",
    "        img = cv2.imread(img_name)\n",
    "        img = img[50:,120:-50]\n",
    "        img = cv2.resize(img,(299,299))\n",
    "        label = i\n",
    "        driver = driver_details[driver_details['img'] == imgs[j]]['subject'].values[0]\n",
    "        train_image.append([img,label,driver])\n",
    "    print('Finished c',i)"
   ]
  },
  {
   "cell_type": "code",
   "execution_count": 6,
   "id": "integrated-religion",
   "metadata": {
    "execution": {
     "iopub.execute_input": "2021-06-10T05:39:42.920249Z",
     "iopub.status.busy": "2021-06-10T05:39:42.919561Z",
     "iopub.status.idle": "2021-06-10T05:39:42.923144Z",
     "shell.execute_reply": "2021-06-10T05:39:42.922730Z"
    },
    "papermill": {
     "duration": 0.025655,
     "end_time": "2021-06-10T05:39:42.923257",
     "exception": false,
     "start_time": "2021-06-10T05:39:42.897602",
     "status": "completed"
    },
    "tags": []
   },
   "outputs": [],
   "source": [
    "random.shuffle(train_image)\n",
    "#driv_selected = ['p045', 'p015', 'p019', 'p032']\n",
    "#driv_selected = ['p023', 'p033', 'p047', 'p010']\n",
    "driv_selected = ['p050', 'p042', 'p037', 'p026']"
   ]
  },
  {
   "cell_type": "code",
   "execution_count": 7,
   "id": "historical-issue",
   "metadata": {
    "execution": {
     "iopub.execute_input": "2021-06-10T05:39:42.959617Z",
     "iopub.status.busy": "2021-06-10T05:39:42.959078Z",
     "iopub.status.idle": "2021-06-10T05:39:42.963218Z",
     "shell.execute_reply": "2021-06-10T05:39:42.962824Z"
    },
    "papermill": {
     "duration": 0.026419,
     "end_time": "2021-06-10T05:39:42.963327",
     "exception": false,
     "start_time": "2021-06-10T05:39:42.936908",
     "status": "completed"
    },
    "tags": []
   },
   "outputs": [
    {
     "name": "stdout",
     "output_type": "stream",
     "text": [
      "4465 535\n",
      "4465 535\n"
     ]
    }
   ],
   "source": [
    "X_train= []\n",
    "y_train = []\n",
    "X_test = []\n",
    "y_test = []\n",
    "\n",
    "for features,labels,drivers in train_image:\n",
    "    if drivers in driv_selected:\n",
    "        X_test.append(features)\n",
    "        y_test.append(labels)\n",
    "    \n",
    "    else:\n",
    "        X_train.append(features)\n",
    "        y_train.append(labels)\n",
    "    \n",
    "print (len(X_train),len(X_test))\n",
    "print (len(y_train),len(y_test))"
   ]
  },
  {
   "cell_type": "code",
   "execution_count": 8,
   "id": "through-regular",
   "metadata": {
    "execution": {
     "iopub.execute_input": "2021-06-10T05:39:43.173621Z",
     "iopub.status.busy": "2021-06-10T05:39:43.172828Z",
     "iopub.status.idle": "2021-06-10T05:39:43.176490Z",
     "shell.execute_reply": "2021-06-10T05:39:43.176913Z"
    },
    "papermill": {
     "duration": 0.199764,
     "end_time": "2021-06-10T05:39:43.177063",
     "exception": false,
     "start_time": "2021-06-10T05:39:42.977299",
     "status": "completed"
    },
    "tags": []
   },
   "outputs": [
    {
     "data": {
      "text/plain": [
       "82"
      ]
     },
     "execution_count": 8,
     "metadata": {},
     "output_type": "execute_result"
    }
   ],
   "source": [
    "del train_image\n",
    "del imgs\n",
    "del driver_details\n",
    "gc.collect()"
   ]
  },
  {
   "cell_type": "code",
   "execution_count": 9,
   "id": "changing-special",
   "metadata": {
    "execution": {
     "iopub.execute_input": "2021-06-10T05:39:43.212669Z",
     "iopub.status.busy": "2021-06-10T05:39:43.211412Z",
     "iopub.status.idle": "2021-06-10T05:39:43.619831Z",
     "shell.execute_reply": "2021-06-10T05:39:43.620237Z"
    },
    "papermill": {
     "duration": 0.428842,
     "end_time": "2021-06-10T05:39:43.620390",
     "exception": false,
     "start_time": "2021-06-10T05:39:43.191548",
     "status": "completed"
    },
    "tags": []
   },
   "outputs": [
    {
     "name": "stdout",
     "output_type": "stream",
     "text": [
      "(4465, 299, 299, 3)\n"
     ]
    }
   ],
   "source": [
    "X_train = np.array(X_train).reshape(-1,299,299,3)\n",
    "X_test = np.array(X_test).reshape(-1,299,299,3)\n",
    "y_train = to_categorical(y_train)\n",
    "y_test = to_categorical(y_test)\n",
    "\n",
    "print (X_train.shape)"
   ]
  },
  {
   "cell_type": "code",
   "execution_count": 10,
   "id": "retired-elite",
   "metadata": {
    "execution": {
     "iopub.execute_input": "2021-06-10T05:39:43.656511Z",
     "iopub.status.busy": "2021-06-10T05:39:43.655402Z",
     "iopub.status.idle": "2021-06-10T05:39:44.812394Z",
     "shell.execute_reply": "2021-06-10T05:39:44.811939Z"
    },
    "papermill": {
     "duration": 1.177143,
     "end_time": "2021-06-10T05:39:44.812527",
     "exception": false,
     "start_time": "2021-06-10T05:39:43.635384",
     "status": "completed"
    },
    "tags": []
   },
   "outputs": [],
   "source": [
    "#Save best model\n",
    "checkpointer = ModelCheckpoint('xception_weight_v5.hdf5', verbose=1, save_best_only=True)\n",
    "#Stop if loss doesn't decrease for 10 epochs\n",
    "earlystopper = EarlyStopping(monitor='val_loss', patience=10, verbose=1)\n",
    "\n",
    "#Image Aug\n",
    "datagen = ImageDataGenerator(\n",
    "    height_shift_range=0.3,\n",
    "    width_shift_range = 0.3,\n",
    "    zoom_range = 0.3,\n",
    "    rotation_range=30\n",
    "        )\n",
    "\n",
    "data_generator = datagen.flow(X_train, y_train, batch_size = 32)"
   ]
  },
  {
   "cell_type": "code",
   "execution_count": 11,
   "id": "radio-progressive",
   "metadata": {
    "execution": {
     "iopub.execute_input": "2021-06-10T05:39:44.849258Z",
     "iopub.status.busy": "2021-06-10T05:39:44.848722Z",
     "iopub.status.idle": "2021-06-10T05:39:48.720458Z",
     "shell.execute_reply": "2021-06-10T05:39:48.721018Z"
    },
    "papermill": {
     "duration": 3.893767,
     "end_time": "2021-06-10T05:39:48.721217",
     "exception": false,
     "start_time": "2021-06-10T05:39:44.827450",
     "status": "completed"
    },
    "tags": []
   },
   "outputs": [
    {
     "name": "stdout",
     "output_type": "stream",
     "text": [
      "Downloading data from https://storage.googleapis.com/tensorflow/keras-applications/xception/xception_weights_tf_dim_ordering_tf_kernels_notop.h5\n",
      "83689472/83683744 [==============================] - 1s 0us/step\n",
      "Model: \"model\"\n",
      "_________________________________________________________________\n",
      "Layer (type)                 Output Shape              Param #   \n",
      "=================================================================\n",
      "input_1 (InputLayer)         [(None, 299, 299, 3)]     0         \n",
      "_________________________________________________________________\n",
      "xception (Functional)        (None, 2048)              20861480  \n",
      "_________________________________________________________________\n",
      "dense (Dense)                (None, 1024)              2098176   \n",
      "_________________________________________________________________\n",
      "batch_normalization_4 (Batch (None, 1024)              4096      \n",
      "_________________________________________________________________\n",
      "dropout (Dropout)            (None, 1024)              0         \n",
      "_________________________________________________________________\n",
      "dense_1 (Dense)              (None, 512)               524800    \n",
      "_________________________________________________________________\n",
      "batch_normalization_5 (Batch (None, 512)               2048      \n",
      "_________________________________________________________________\n",
      "dropout_1 (Dropout)          (None, 512)               0         \n",
      "_________________________________________________________________\n",
      "dense_2 (Dense)              (None, 64)                32832     \n",
      "_________________________________________________________________\n",
      "batch_normalization_6 (Batch (None, 64)                256       \n",
      "_________________________________________________________________\n",
      "dropout_2 (Dropout)          (None, 64)                0         \n",
      "_________________________________________________________________\n",
      "dense_3 (Dense)              (None, 10)                650       \n",
      "=================================================================\n",
      "Total params: 23,524,338\n",
      "Trainable params: 23,466,610\n",
      "Non-trainable params: 57,728\n",
      "_________________________________________________________________\n"
     ]
    }
   ],
   "source": [
    "#Define Xception Model\n",
    "input_tensor = Input(shape = (299, 299, 3))\n",
    "base = Xception(include_top=False, pooling='avg')\n",
    "base_xception = base(input_tensor)\n",
    "\n",
    "#Add the fully-connected layers \n",
    "x = Dense(1024,activation='relu')(base_xception)\n",
    "x = BatchNormalization()(x)\n",
    "x = Dropout(0.5)(x)\n",
    "\n",
    "x = Dense(512,activation='relu')(x)\n",
    "x = BatchNormalization()(x)\n",
    "x = Dropout(0.5)(x)\n",
    "\n",
    "x = Dense(64,activation='relu')(x)\n",
    "x = BatchNormalization()(x)\n",
    "x = Dropout(0.5)(x)\n",
    "\n",
    "x = Dense(10, activation='softmax')(x)\n",
    "\n",
    "xception_pretrained = Model(input_tensor, x)\n",
    "\n",
    "xception_pretrained.summary()"
   ]
  },
  {
   "cell_type": "code",
   "execution_count": 12,
   "id": "determined-queue",
   "metadata": {
    "execution": {
     "iopub.execute_input": "2021-06-10T05:39:48.763769Z",
     "iopub.status.busy": "2021-06-10T05:39:48.762527Z",
     "iopub.status.idle": "2021-06-10T05:39:48.764796Z",
     "shell.execute_reply": "2021-06-10T05:39:48.765268Z"
    },
    "papermill": {
     "duration": 0.024689,
     "end_time": "2021-06-10T05:39:48.765398",
     "exception": false,
     "start_time": "2021-06-10T05:39:48.740709",
     "status": "completed"
    },
    "tags": []
   },
   "outputs": [],
   "source": [
    "#retrieve model\n",
    "#xception_pretrained.load_weights(\"../input/xceptionweight4/xception_weight_v4.hdf5\")"
   ]
  },
  {
   "cell_type": "code",
   "execution_count": 13,
   "id": "metropolitan-complaint",
   "metadata": {
    "execution": {
     "iopub.execute_input": "2021-06-10T05:39:48.821185Z",
     "iopub.status.busy": "2021-06-10T05:39:48.814807Z",
     "iopub.status.idle": "2021-06-10T06:16:48.243944Z",
     "shell.execute_reply": "2021-06-10T06:16:48.240124Z"
    },
    "papermill": {
     "duration": 2219.46007,
     "end_time": "2021-06-10T06:16:48.244124",
     "exception": false,
     "start_time": "2021-06-10T05:39:48.784054",
     "status": "completed"
    },
    "tags": []
   },
   "outputs": [
    {
     "name": "stdout",
     "output_type": "stream",
     "text": [
      "Epoch 1/30\n",
      "139/139 [==============================] - 123s 820ms/step - loss: 3.3130 - accuracy: 0.1245 - val_loss: 2.1609 - val_accuracy: 0.2206\n",
      "\n",
      "Epoch 00001: val_loss improved from inf to 2.16087, saving model to xception_weight_v5.hdf5\n",
      "Epoch 2/30\n",
      "139/139 [==============================] - 116s 829ms/step - loss: 1.9835 - accuracy: 0.3510 - val_loss: 1.0768 - val_accuracy: 0.6841\n",
      "\n",
      "Epoch 00002: val_loss improved from 2.16087 to 1.07679, saving model to xception_weight_v5.hdf5\n",
      "Epoch 3/30\n",
      "139/139 [==============================] - 115s 822ms/step - loss: 1.1776 - accuracy: 0.5983 - val_loss: 0.6591 - val_accuracy: 0.7925\n",
      "\n",
      "Epoch 00003: val_loss improved from 1.07679 to 0.65907, saving model to xception_weight_v5.hdf5\n",
      "Epoch 4/30\n",
      "139/139 [==============================] - 115s 824ms/step - loss: 0.7916 - accuracy: 0.7348 - val_loss: 0.5460 - val_accuracy: 0.8000\n",
      "\n",
      "Epoch 00004: val_loss improved from 0.65907 to 0.54604, saving model to xception_weight_v5.hdf5\n",
      "Epoch 5/30\n",
      "139/139 [==============================] - 115s 823ms/step - loss: 0.6329 - accuracy: 0.8004 - val_loss: 0.4663 - val_accuracy: 0.8019\n",
      "\n",
      "Epoch 00005: val_loss improved from 0.54604 to 0.46635, saving model to xception_weight_v5.hdf5\n",
      "Epoch 6/30\n",
      "139/139 [==============================] - 116s 832ms/step - loss: 0.5691 - accuracy: 0.8232 - val_loss: 0.4268 - val_accuracy: 0.8393\n",
      "\n",
      "Epoch 00006: val_loss improved from 0.46635 to 0.42676, saving model to xception_weight_v5.hdf5\n",
      "Epoch 7/30\n",
      "139/139 [==============================] - 116s 825ms/step - loss: 0.4489 - accuracy: 0.8660 - val_loss: 0.4218 - val_accuracy: 0.8393\n",
      "\n",
      "Epoch 00007: val_loss improved from 0.42676 to 0.42175, saving model to xception_weight_v5.hdf5\n",
      "Epoch 8/30\n",
      "139/139 [==============================] - 116s 831ms/step - loss: 0.4147 - accuracy: 0.8697 - val_loss: 0.4139 - val_accuracy: 0.8505\n",
      "\n",
      "Epoch 00008: val_loss improved from 0.42175 to 0.41386, saving model to xception_weight_v5.hdf5\n",
      "Epoch 9/30\n",
      "139/139 [==============================] - 118s 841ms/step - loss: 0.3825 - accuracy: 0.8872 - val_loss: 0.3915 - val_accuracy: 0.8729\n",
      "\n",
      "Epoch 00009: val_loss improved from 0.41386 to 0.39154, saving model to xception_weight_v5.hdf5\n",
      "Epoch 10/30\n",
      "139/139 [==============================] - 117s 833ms/step - loss: 0.3274 - accuracy: 0.9009 - val_loss: 0.4466 - val_accuracy: 0.8523\n",
      "\n",
      "Epoch 00010: val_loss did not improve from 0.39154\n",
      "Epoch 11/30\n",
      "139/139 [==============================] - 116s 831ms/step - loss: 0.2884 - accuracy: 0.9141 - val_loss: 0.4703 - val_accuracy: 0.8168\n",
      "\n",
      "Epoch 00011: val_loss did not improve from 0.39154\n",
      "Epoch 12/30\n",
      "139/139 [==============================] - 116s 828ms/step - loss: 0.2551 - accuracy: 0.9331 - val_loss: 0.4538 - val_accuracy: 0.8411\n",
      "\n",
      "Epoch 00012: val_loss did not improve from 0.39154\n",
      "Epoch 13/30\n",
      "139/139 [==============================] - 116s 831ms/step - loss: 0.2309 - accuracy: 0.9368 - val_loss: 0.4686 - val_accuracy: 0.8523\n",
      "\n",
      "Epoch 00013: val_loss did not improve from 0.39154\n",
      "Epoch 14/30\n",
      "139/139 [==============================] - 116s 827ms/step - loss: 0.2381 - accuracy: 0.9370 - val_loss: 0.5203 - val_accuracy: 0.8280\n",
      "\n",
      "Epoch 00014: val_loss did not improve from 0.39154\n",
      "Epoch 15/30\n",
      "139/139 [==============================] - 116s 828ms/step - loss: 0.1984 - accuracy: 0.9450 - val_loss: 0.5234 - val_accuracy: 0.8224\n",
      "\n",
      "Epoch 00015: val_loss did not improve from 0.39154\n",
      "Epoch 16/30\n",
      "139/139 [==============================] - 116s 831ms/step - loss: 0.1944 - accuracy: 0.9408 - val_loss: 0.4803 - val_accuracy: 0.8449\n",
      "\n",
      "Epoch 00016: val_loss did not improve from 0.39154\n",
      "Epoch 17/30\n",
      "139/139 [==============================] - 116s 828ms/step - loss: 0.1653 - accuracy: 0.9513 - val_loss: 0.5531 - val_accuracy: 0.8187\n",
      "\n",
      "Epoch 00017: val_loss did not improve from 0.39154\n",
      "Epoch 18/30\n",
      "139/139 [==============================] - 117s 834ms/step - loss: 0.1599 - accuracy: 0.9560 - val_loss: 0.4920 - val_accuracy: 0.8336\n",
      "\n",
      "Epoch 00018: val_loss did not improve from 0.39154\n",
      "Epoch 19/30\n",
      "139/139 [==============================] - 116s 829ms/step - loss: 0.1610 - accuracy: 0.9555 - val_loss: 0.5177 - val_accuracy: 0.8299\n",
      "\n",
      "Epoch 00019: val_loss did not improve from 0.39154\n",
      "Epoch 00019: early stopping\n"
     ]
    },
    {
     "data": {
      "text/plain": [
       "<matplotlib.legend.Legend at 0x7f9df8052cd0>"
      ]
     },
     "execution_count": 13,
     "metadata": {},
     "output_type": "execute_result"
    },
    {
     "data": {
      "image/png": "[encoded data removed]",
      "text/plain": [
       "<Figure size 1440x720 with 2 Axes>"
      ]
     },
     "metadata": {
      "needs_background": "light"
     },
     "output_type": "display_data"
    }
   ],
   "source": [
    "xception_pretrained.compile(loss='categorical_crossentropy',optimizer = optimizers.SGD(lr=0.01),metrics=['accuracy'])\n",
    "xception_model = xception_pretrained.fit(data_generator,steps_per_epoch = len(X_train) / 32, callbacks = [checkpointer, earlystopper],\n",
    "                                                            epochs = 30, verbose = 1, validation_data = (X_test, y_test))\n",
    "\n",
    "\n",
    "fig, axes = plt.subplots(1, 2, figsize = (20, 10))\n",
    "axes[0].plot(range(1, len(xception_pretrained.history.history['accuracy']) + 1), xception_pretrained.history.history['accuracy'], linestyle = 'solid', marker = 'o', color = 'crimson', label = 'Training Accuracy')\n",
    "axes[0].plot(range(1, len(xception_pretrained.history.history['val_accuracy']) + 1), xception_pretrained.history.history['val_accuracy'], linestyle = 'solid', marker = 'o', color = 'dodgerblue', label = 'Testing Accuracy')\n",
    "axes[0].set_xlabel('Epochs', fontsize = 14)\n",
    "axes[0].set_ylabel('Accuracy',fontsize = 14)\n",
    "axes[0].set_title('CNN Dropout Accuracy Trainig VS Testing', fontsize = 14)\n",
    "axes[0].legend(loc = 'best')\n",
    "axes[1].plot(range(1, len(xception_pretrained.history.history['loss']) + 1), xception_pretrained.history.history['loss'], linestyle = 'solid', marker = 'o', color = 'crimson', label = 'Training Loss')\n",
    "axes[1].plot(range(1, len(xception_pretrained.history.history['val_loss']) + 1), xception_pretrained.history.history['val_loss'], linestyle = 'solid', marker = 'o', color = 'dodgerblue', label = 'Testing Loss')\n",
    "axes[1].set_xlabel('Epochs', fontsize = 14)\n",
    "axes[1].set_ylabel('Loss',fontsize = 14)\n",
    "axes[1].set_title('CNN Dropout Loss Trainig VS Testing', fontsize = 14)\n",
    "axes[1].legend(loc = 'best')"
   ]
  },
  {
   "cell_type": "code",
   "execution_count": 14,
   "id": "excellent-senegal",
   "metadata": {
    "execution": {
     "iopub.execute_input": "2021-06-10T06:16:49.962408Z",
     "iopub.status.busy": "2021-06-10T06:16:49.960628Z",
     "iopub.status.idle": "2021-06-10T06:16:49.963098Z",
     "shell.execute_reply": "2021-06-10T06:16:49.963588Z"
    },
    "papermill": {
     "duration": 0.845929,
     "end_time": "2021-06-10T06:16:49.963735",
     "exception": false,
     "start_time": "2021-06-10T06:16:49.117806",
     "status": "completed"
    },
    "tags": []
   },
   "outputs": [],
   "source": [
    "#sample image augmentation\n",
    "#img = cv2.imread(\"../input/state-farm-distracted-driver-detection/imgs/train/c0/img_1005.jpg\")\n",
    "#plt.imshow(img)\n",
    "#plt.show()\n",
    "#\n",
    "#x = img_to_array(img)\n",
    "#x = x.reshape((1,) + x.shape)\n",
    "#\n",
    "#datagen_sample = ImageDataGenerator(\n",
    "#    height_shift_range=0.3,\n",
    "#    width_shift_range = 0.3,\n",
    "#    zoom_range = 0.3,\n",
    "#    rotation_range=30\n",
    "#        )\n",
    "#\n",
    "#g = datagen_sample.flow(x, batch_size=1)\n",
    "#plt.subplots(figsize=(12,8))\n",
    "#for i in range(9):\n",
    "#    batche = g.next()\n",
    "#    gen = array_to_img(batche[0])\n",
    "# \n",
    "#    plt.subplot(3,3, i + 1)\n",
    "#    plt.imshow(gen)\n",
    "#    plt.axis('off')\n",
    "# \n",
    "#plt.show()"
   ]
  },
  {
   "cell_type": "code",
   "execution_count": 15,
   "id": "extraordinary-kinase",
   "metadata": {
    "execution": {
     "iopub.execute_input": "2021-06-10T06:16:51.432740Z",
     "iopub.status.busy": "2021-06-10T06:16:51.431185Z",
     "iopub.status.idle": "2021-06-10T06:16:51.433526Z",
     "shell.execute_reply": "2021-06-10T06:16:51.433995Z"
    },
    "papermill": {
     "duration": 0.73661,
     "end_time": "2021-06-10T06:16:51.434129",
     "exception": false,
     "start_time": "2021-06-10T06:16:50.697519",
     "status": "completed"
    },
    "tags": []
   },
   "outputs": [],
   "source": [
    "#optimizer evaluation\n",
    "#opts=[]\n",
    "#opts.append(optimizers.SGD(lr=0.005))\n",
    "#opts.append(optimizers.SGD(lr=0.01))\n",
    "#opts.append(optimizers.RMSprop(lr=0.001))\n",
    "#opts.append(optimizers.RMSprop(lr=0.005))\n",
    "#opts.append(optimizers.Adagrad(lr=0.005))\n",
    "#opts.append(optimizers.Adagrad(lr=0.01))\n",
    "#opts.append(optimizers.Adadelta())\n",
    "#opts.append(optimizers.Adam())\n",
    "#opts.append(optimizers.Adamax())\n",
    "#opts.append(optimizers.Nadam())\n",
    "#\n",
    "#print(len(opts))\n",
    "#\n",
    "#acc_hist=[]\n",
    "#loss_hist=[]\n",
    "#\n",
    "#xception_pretrained.save_weights(\"compare_opt.hdf5\")\n",
    "#for i in range(len(opts)):\n",
    "#    xception_pretrained.load_weights(\"compare_opt.hdf5\")\n",
    "#    xception_pretrained.compile(loss='categorical_crossentropy',optimizer = opts[i],metrics=['accuracy'])\n",
    "#    xception_model = xception_pretrained.fit(data_generator,steps_per_epoch = len(X_train) / 32, callbacks=checkpointer,\n",
    "#                                                            epochs = 10, verbose = 1, validation_data = (X_test, y_test))\n",
    "#    acc_hist.append(xception_pretrained.history.history['val_accuracy'])\n",
    "#    loss_hist.append(xception_pretrained.history.history['val_loss'])\n",
    "#\n",
    "#l1=len(xception_pretrained.history.history['val_accuracy'])\n",
    "#l2=len(xception_pretrained.history.history['val_loss'])\n",
    "#fig, axes = plt.subplots(1, 2, figsize = (20, 10))\n",
    "#\n",
    "#axes[0].plot(range(1, l1 + 1), acc_hist[0], linestyle = 'solid', marker = 'o', color = 'red', label = 'SGD(lr=0.005)')\n",
    "#axes[0].plot(range(1, l1 + 1), acc_hist[1], linestyle = 'solid', marker = 'v', color = 'orange', label = 'SGD(lr=0.01)')\n",
    "#axes[0].plot(range(1, l1 + 1), acc_hist[2], linestyle = 'solid', marker = '^', color = 'green', label = 'RMSprop(lr=0.001)')\n",
    "#axes[0].plot(range(1, l1 + 1), acc_hist[3], linestyle = 'solid', marker = '<', color = 'blue', label = 'RMSprop(lr=0.005)')\n",
    "#axes[0].plot(range(1, l1 + 1), acc_hist[4], linestyle = 'solid', marker = '>', color = 'purple', label = 'Adagrad(lr=0.005)')\n",
    "#axes[0].plot(range(1, l1 + 1), acc_hist[5], linestyle = 'solid', marker = '*', color = 'pink', label = 'Adagrad(lr=0.01)')\n",
    "#axes[0].plot(range(1, l1 + 1), acc_hist[6], linestyle = 'solid', marker = '+', color = 'black', label = 'Adadelta()')\n",
    "#axes[0].plot(range(1, l1 + 1), acc_hist[7], linestyle = 'solid', marker = 'x', color = 'cyan', label = 'Adam()')\n",
    "#axes[0].plot(range(1, l1 + 1), acc_hist[8], linestyle = 'solid', marker = 's', color = 'yellow', label = 'Adamax()')\n",
    "#axes[0].plot(range(1, l1 + 1), acc_hist[9], linestyle = 'solid', marker = 'p', color = 'lime', label = 'Nadam()')\n",
    "#\n",
    "#axes[0].set_xlabel('Epochs', fontsize = 14)\n",
    "#axes[0].set_ylabel('Accuracy',fontsize = 14)\n",
    "#axes[0].set_title('Validation Accuracy by Optimizer', fontsize = 14)\n",
    "#axes[0].legend(bbox_to_anchor=(0, -0.1), loc='upper left', borderaxespad=0, fontsize=10)\n",
    "#\n",
    "#axes[1].plot(range(1, l2 + 1), loss_hist[0], linestyle = 'solid', marker = 'o', color = 'red', label = 'SGD(lr=0.005)')\n",
    "#axes[1].plot(range(1, l2 + 1), loss_hist[1], linestyle = 'solid', marker = 'v', color = 'orange', label = 'SGD(lr=0.01)')\n",
    "#axes[1].plot(range(1, l2 + 1), loss_hist[2], linestyle = 'solid', marker = '^', color = 'green', label = 'RMSprop(lr=0.001)')\n",
    "##axes[1].plot(range(1, l2 + 1), loss_hist[3], linestyle = 'solid', marker = '<', color = 'blue', label = 'RMSprop(lr=0.005)')\n",
    "#axes[1].plot(range(1, l2 + 1), loss_hist[4], linestyle = 'solid', marker = '>', color = 'purple', label = 'Adagrad(lr=0.005)')\n",
    "#axes[1].plot(range(1, l2 + 1), loss_hist[5], linestyle = 'solid', marker = '*', color = 'pink', label = 'Adagrad(lr=0.01)')\n",
    "#axes[1].plot(range(1, l2 + 1), loss_hist[6], linestyle = 'solid', marker = '+', color = 'black', label = 'Adadelta()')\n",
    "#axes[1].plot(range(1, l2 + 1), loss_hist[7], linestyle = 'solid', marker = 'x', color = 'cyan', label = 'Adam()')\n",
    "#axes[1].plot(range(1, l2 + 1), loss_hist[8], linestyle = 'solid', marker = 's', color = 'yellow', label = 'Adamax()')\n",
    "#axes[1].plot(range(1, l2 + 1), loss_hist[9], linestyle = 'solid', marker = 'p', color = 'lime', label = 'Nadam()')\n",
    "#\n",
    "#axes[1].set_xlabel('Epochs', fontsize = 14)\n",
    "#axes[1].set_ylabel('Loss',fontsize = 14)\n",
    "#axes[1].set_title('Validation Loss by Optimizer', fontsize = 14)\n",
    "#axes[1].legend(bbox_to_anchor=(0, -0.1), loc='upper left', borderaxespad=0, fontsize=10)"
   ]
  },
  {
   "cell_type": "code",
   "execution_count": 16,
   "id": "running-environment",
   "metadata": {
    "execution": {
     "iopub.execute_input": "2021-06-10T06:16:52.880636Z",
     "iopub.status.busy": "2021-06-10T06:16:52.879736Z",
     "iopub.status.idle": "2021-06-10T06:16:52.881931Z",
     "shell.execute_reply": "2021-06-10T06:16:52.882296Z"
    },
    "papermill": {
     "duration": 0.716363,
     "end_time": "2021-06-10T06:16:52.882432",
     "exception": false,
     "start_time": "2021-06-10T06:16:52.166069",
     "status": "completed"
    },
    "tags": []
   },
   "outputs": [],
   "source": [
    "#extra layer comparison\n",
    "#checkpointers=[]\n",
    "#checkpointers.append(ModelCheckpoint('xception_weight0.hdf5', verbose=1, save_best_only=True))\n",
    "#checkpointers.append(ModelCheckpoint('xception_weight1.hdf5', verbose=1, save_best_only=True))\n",
    "#checkpointers.append(ModelCheckpoint('xception_weight2.hdf5', verbose=1, save_best_only=True))\n",
    "#checkpointers.append(ModelCheckpoint('xception_weight3.hdf5', verbose=1, save_best_only=True))\n",
    "#checkpointers.append(ModelCheckpoint('xception_weight4.hdf5', verbose=1, save_best_only=True))\n",
    "#checkpointers.append(ModelCheckpoint('xception_weight5.hdf5', verbose=1, save_best_only=True))\n",
    "#earlystopper = EarlyStopping(monitor='val_loss', patience=7, verbose=1)\n",
    "#models=[]\n",
    "#\n",
    "#input_tensor = Input(shape = (299, 299, 3))\n",
    "#base = Xception(include_top=False, pooling='avg')\n",
    "#base_xception = base(input_tensor)\n",
    "#\n",
    "#\n",
    "##Add the fully-connected layers \n",
    "#x = Dense(10, activation='softmax')(base_xception)\n",
    "#models.append(Model(input_tensor, x))\n",
    "#\n",
    "##Add the fully-connected layers \n",
    "#x = Dense(512,activation='relu')(base_xception)\n",
    "#x = BatchNormalization()(x)\n",
    "#x = Dropout(0.5)(x)\n",
    "#\n",
    "#x = Dense(10, activation='softmax')(x)\n",
    "#\n",
    "#models.append(Model(input_tensor, x))\n",
    "#\n",
    "##Add the fully-connected layers \n",
    "#x = Dense(1024,activation='relu')(base_xception)\n",
    "#x = BatchNormalization()(x)\n",
    "#x = Dropout(0.5)(x)\n",
    "#\n",
    "#x = Dense(10, activation='softmax')(x)\n",
    "#\n",
    "#models.append(Model(input_tensor, x))\n",
    "#\n",
    "#\n",
    "##Add the fully-connected layers \n",
    "#x = Dense(512,activation='relu')(base_xception)\n",
    "#x = BatchNormalization()(x)\n",
    "#x = Dropout(0.5)(x)\n",
    "#\n",
    "#x = Dense(512,activation='relu')(x)\n",
    "#x = BatchNormalization()(x)\n",
    "#x = Dropout(0.5)(x)\n",
    "#\n",
    "#x = Dense(10, activation='softmax')(x)\n",
    "#\n",
    "#models.append(Model(input_tensor, x))\n",
    "#\n",
    "##Add the fully-connected layers \n",
    "#x = Dense(1024,activation='relu')(base_xception)\n",
    "#x = BatchNormalization()(x)\n",
    "#x = Dropout(0.5)(x)\n",
    "#\n",
    "#x = Dense(512,activation='relu')(x)\n",
    "#x = BatchNormalization()(x)\n",
    "#x = Dropout(0.5)(x)\n",
    "#\n",
    "#x = Dense(10, activation='softmax')(x)\n",
    "#\n",
    "#models.append(Model(input_tensor, x))\n",
    "#\n",
    "##Add the fully-connected layers \n",
    "#x = Dense(1024,activation='relu')(base_xception)\n",
    "#x = BatchNormalization()(x)\n",
    "#x = Dropout(0.5)(x)\n",
    "#\n",
    "#x = Dense(512,activation='relu')(x)\n",
    "#x = BatchNormalization()(x)\n",
    "#x = Dropout(0.5)(x)\n",
    "#\n",
    "#x = Dense(64,activation='relu')(x)\n",
    "#x = BatchNormalization()(x)\n",
    "#x = Dropout(0.5)(x)\n",
    "#\n",
    "#x = Dense(10, activation='softmax')(x)\n",
    "#\n",
    "#models.append(Model(input_tensor, x))\n",
    "#\n",
    "#print(len(models))\n",
    "#\n",
    "#acc_hist=[]\n",
    "#loss_hist=[]\n",
    "#\n",
    "#for i in range(len(models)):\n",
    "#    models[i].compile(loss='categorical_crossentropy',optimizer = optimizers.SGD(lr=0.01),metrics=['accuracy'])\n",
    "#    xception_model = models[i].fit(data_generator,steps_per_epoch = len(X_train) / 32, callbacks = [checkpointers[i], earlystopper],\n",
    "#                                                            epochs = 10, verbose = 1, validation_data = (X_test, y_test))\n",
    "#    acc_hist.append(models[i].history.history['val_accuracy'])\n",
    "#    loss_hist.append(models[i].history.history['val_loss'])\n",
    "#\n",
    "#l1=len(models[i].history.history['val_accuracy'])\n",
    "#l2=len(models[i].history.history['val_loss'])\n",
    "#fig, axes = plt.subplots(1, 2, figsize = (20, 10))\n",
    "#\n",
    "#axes[0].plot(range(1, l1 + 1), acc_hist[0], linestyle = 'solid', marker = 'o', color = 'red', label = 'dense(soft)')\n",
    "#axes[0].plot(range(1, l1 + 1), acc_hist[1], linestyle = 'solid', marker = 'v', color = 'orange', label = 'd(soft)+d(512)')\n",
    "#axes[0].plot(range(1, l1 + 1), acc_hist[2], linestyle = 'solid', marker = '^', color = 'green', label = 'd(soft)+d(1024)')\n",
    "#axes[0].plot(range(1, l1 + 1), acc_hist[3], linestyle = 'solid', marker = '<', color = 'blue', label = 'd(soft)+d(1024)+d(512)')\n",
    "#axes[0].plot(range(1, l1 + 1), acc_hist[4], linestyle = 'solid', marker = '>', color = 'purple', label = 'd(soft)+d(512)+d(512)')\n",
    "#axes[0].plot(range(1, l1 + 1), acc_hist[5], linestyle = 'solid', marker = '*', color = 'pink', label = 'd(soft)+d(1024)+d(512)+d(64)')\n",
    "#\n",
    "#axes[0].set_xlabel('Epochs', fontsize = 14)\n",
    "#axes[0].set_ylabel('Accuracy',fontsize = 14)\n",
    "#axes[0].set_title('Validation Accuracy by Optimizer', fontsize = 14)\n",
    "#axes[0].legend(bbox_to_anchor=(0, -0.1), loc='upper left', borderaxespad=0, fontsize=10)\n",
    "#\n",
    "#axes[1].plot(range(1, l2 + 1), loss_hist[0], linestyle = 'solid', marker = 'o', color = 'red', label = 'dense(soft)')\n",
    "#axes[1].plot(range(1, l2 + 1), loss_hist[1], linestyle = 'solid', marker = 'v', color = 'orange', label = 'd(soft)+d(512)')\n",
    "#axes[1].plot(range(1, l2 + 1), loss_hist[2], linestyle = 'solid', marker = '^', color = 'green', label = 'd(soft)+d(1024)')\n",
    "#axes[1].plot(range(1, l2 + 1), loss_hist[3], linestyle = 'solid', marker = '<', color = 'blue', label = 'd(soft)+d(1024)+d(512)')\n",
    "#axes[1].plot(range(1, l2 + 1), loss_hist[4], linestyle = 'solid', marker = '>', color = 'purple', label = 'd(soft)+d(512)+d(512)')\n",
    "#axes[1].plot(range(1, l2 + 1), loss_hist[5], linestyle = 'solid', marker = '*', color = 'pink', label = 'd(soft)+d(1024)+d(512)+d(64)')\n",
    "#\n",
    "#axes[1].set_xlabel('Epochs', fontsize = 14)\n",
    "#axes[1].set_ylabel('Loss',fontsize = 14)\n",
    "#axes[1].set_title('Validation Loss by Optimizer', fontsize = 14)\n",
    "#axes[1].legend(bbox_to_anchor=(0, -0.1), loc='upper left', borderaxespad=0, fontsize=10)"
   ]
  }
 ],
 "metadata": {
  "kernelspec": {
   "display_name": "Python 3",
   "language": "python",
   "name": "python3"
  },
  "language_info": {
   "codemirror_mode": {
    "name": "ipython",
    "version": 3
   },
   "file_extension": ".py",
   "mimetype": "text/x-python",
   "name": "python",
   "nbconvert_exporter": "python",
   "pygments_lexer": "ipython3",
   "version": "3.7.10"
  },
  "papermill": {
   "default_parameters": {},
   "duration": 2315.691371,
   "end_time": "2021-06-10T06:16:55.993115",
   "environment_variables": {},
   "exception": null,
   "input_path": "__notebook__.ipynb",
   "output_path": "__notebook__.ipynb",
   "parameters": {},
   "start_time": "2021-06-10T05:38:20.301744",
   "version": "2.3.3"
  }
 },
 "nbformat": 4,
 "nbformat_minor": 5
}
